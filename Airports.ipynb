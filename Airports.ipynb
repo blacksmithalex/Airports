{
 "cells": [
  {
   "cell_type": "markdown",
   "metadata": {},
   "source": [
    "### Ковальчук Алексей\n",
    "\n",
    "- telegram: @analitiqq\n",
    "- instagram: @analitiq\n",
    "- web-site: http://analitiq.ru\n",
    "\n",
    "Аэропорт: Strigino (Nizhny Novgorod)\n",
    "\n",
    "Построить прогнозирование пассажиропотока по месяцам 2019 года, используя данные за предыдущие годы."
   ]
  },
  {
   "cell_type": "code",
   "execution_count": 1,
   "metadata": {},
   "outputs": [],
   "source": [
    "import numpy as np\n",
    "import matplotlib.pyplot as plt\n",
    "import pandas as pd\n",
    "import statsmodels.api as sm"
   ]
  },
  {
   "cell_type": "code",
   "execution_count": 2,
   "metadata": {},
   "outputs": [],
   "source": [
    "df = pd.read_csv(\"russian_passenger_air_service.csv\")"
   ]
  },
  {
   "cell_type": "code",
   "execution_count": 4,
   "metadata": {},
   "outputs": [
    {
     "name": "stdout",
     "output_type": "stream",
     "text": [
      "<class 'pandas.core.frame.DataFrame'>\n",
      "RangeIndex: 3961 entries, 0 to 3960\n",
      "Data columns (total 16 columns):\n",
      "Airport name           3961 non-null object\n",
      "Year                   3961 non-null int64\n",
      "January                3961 non-null float64\n",
      "February               3961 non-null float64\n",
      "March                  3961 non-null float64\n",
      "April                  3961 non-null float64\n",
      "May                    3961 non-null float64\n",
      "June                   3961 non-null float64\n",
      "July                   3961 non-null float64\n",
      "August                 3961 non-null float64\n",
      "September              3961 non-null float64\n",
      "October                3961 non-null float64\n",
      "November               3961 non-null float64\n",
      "December               3961 non-null float64\n",
      "Whole year             3961 non-null float64\n",
      "Airport coordinates    3961 non-null object\n",
      "dtypes: float64(13), int64(1), object(2)\n",
      "memory usage: 495.2+ KB\n"
     ]
    }
   ],
   "source": [
    "df.info()"
   ]
  },
  {
   "cell_type": "code",
   "execution_count": 5,
   "metadata": {},
   "outputs": [
    {
     "data": {
      "text/html": [
       "<div>\n",
       "<style scoped>\n",
       "    .dataframe tbody tr th:only-of-type {\n",
       "        vertical-align: middle;\n",
       "    }\n",
       "\n",
       "    .dataframe tbody tr th {\n",
       "        vertical-align: top;\n",
       "    }\n",
       "\n",
       "    .dataframe thead th {\n",
       "        text-align: right;\n",
       "    }\n",
       "</style>\n",
       "<table border=\"1\" class=\"dataframe\">\n",
       "  <thead>\n",
       "    <tr style=\"text-align: right;\">\n",
       "      <th></th>\n",
       "      <th>Airport name</th>\n",
       "      <th>Year</th>\n",
       "      <th>January</th>\n",
       "      <th>February</th>\n",
       "      <th>March</th>\n",
       "      <th>April</th>\n",
       "      <th>May</th>\n",
       "      <th>June</th>\n",
       "      <th>July</th>\n",
       "      <th>August</th>\n",
       "      <th>September</th>\n",
       "      <th>October</th>\n",
       "      <th>November</th>\n",
       "      <th>December</th>\n",
       "      <th>Whole year</th>\n",
       "      <th>Airport coordinates</th>\n",
       "    </tr>\n",
       "  </thead>\n",
       "  <tbody>\n",
       "    <tr>\n",
       "      <td>367</td>\n",
       "      <td>Nizhny Novgorod (Strigino)</td>\n",
       "      <td>2019</td>\n",
       "      <td>61818.0</td>\n",
       "      <td>53821.0</td>\n",
       "      <td>67102.0</td>\n",
       "      <td>76634.0</td>\n",
       "      <td>101102.0</td>\n",
       "      <td>122324.0</td>\n",
       "      <td>129924.0</td>\n",
       "      <td>132268.0</td>\n",
       "      <td>124669.0</td>\n",
       "      <td>102303.0</td>\n",
       "      <td>73845.0</td>\n",
       "      <td>130.57</td>\n",
       "      <td>1114056.0</td>\n",
       "      <td>(Decimal('43.791127'), Decimal('56.219628'))</td>\n",
       "    </tr>\n",
       "    <tr>\n",
       "      <td>616</td>\n",
       "      <td>Nizhny Novgorod (Strigino)</td>\n",
       "      <td>2018</td>\n",
       "      <td>64228.0</td>\n",
       "      <td>58094.0</td>\n",
       "      <td>69330.0</td>\n",
       "      <td>70733.0</td>\n",
       "      <td>97861.0</td>\n",
       "      <td>149100.0</td>\n",
       "      <td>136807.0</td>\n",
       "      <td>131040.0</td>\n",
       "      <td>123091.0</td>\n",
       "      <td>97462.0</td>\n",
       "      <td>70886.0</td>\n",
       "      <td>89.68</td>\n",
       "      <td>1134534.0</td>\n",
       "      <td>(Decimal('43.791127'), Decimal('56.219628'))</td>\n",
       "    </tr>\n",
       "    <tr>\n",
       "      <td>892</td>\n",
       "      <td>Nizhny Novgorod (Strigino)</td>\n",
       "      <td>2017</td>\n",
       "      <td>48539.0</td>\n",
       "      <td>47505.0</td>\n",
       "      <td>54696.0</td>\n",
       "      <td>57602.0</td>\n",
       "      <td>79164.0</td>\n",
       "      <td>105225.0</td>\n",
       "      <td>116091.0</td>\n",
       "      <td>117271.0</td>\n",
       "      <td>114493.0</td>\n",
       "      <td>87225.0</td>\n",
       "      <td>67052.0</td>\n",
       "      <td>126.02</td>\n",
       "      <td>961491.0</td>\n",
       "      <td>(Decimal('43.791127'), Decimal('56.219628'))</td>\n",
       "    </tr>\n",
       "    <tr>\n",
       "      <td>1184</td>\n",
       "      <td>Nizhny Novgorod (Strigino)</td>\n",
       "      <td>2016</td>\n",
       "      <td>43542.0</td>\n",
       "      <td>45828.0</td>\n",
       "      <td>51168.0</td>\n",
       "      <td>48643.0</td>\n",
       "      <td>61393.0</td>\n",
       "      <td>81623.0</td>\n",
       "      <td>88390.0</td>\n",
       "      <td>89151.0</td>\n",
       "      <td>86748.0</td>\n",
       "      <td>72332.0</td>\n",
       "      <td>54485.0</td>\n",
       "      <td>161.59</td>\n",
       "      <td>775679.0</td>\n",
       "      <td>(Decimal('43.791127'), Decimal('56.219628'))</td>\n",
       "    </tr>\n",
       "    <tr>\n",
       "      <td>1476</td>\n",
       "      <td>Nizhny Novgorod (Strigino)</td>\n",
       "      <td>2015</td>\n",
       "      <td>51305.0</td>\n",
       "      <td>50359.0</td>\n",
       "      <td>54230.0</td>\n",
       "      <td>66345.0</td>\n",
       "      <td>83482.0</td>\n",
       "      <td>111717.0</td>\n",
       "      <td>122882.0</td>\n",
       "      <td>120001.0</td>\n",
       "      <td>102646.0</td>\n",
       "      <td>78804.0</td>\n",
       "      <td>53381.0</td>\n",
       "      <td>154.65</td>\n",
       "      <td>946334.0</td>\n",
       "      <td>(Decimal('43.791127'), Decimal('56.219628'))</td>\n",
       "    </tr>\n",
       "  </tbody>\n",
       "</table>\n",
       "</div>"
      ],
      "text/plain": [
       "                    Airport name  Year  January  February    March    April  \\\n",
       "367   Nizhny Novgorod (Strigino)  2019  61818.0   53821.0  67102.0  76634.0   \n",
       "616   Nizhny Novgorod (Strigino)  2018  64228.0   58094.0  69330.0  70733.0   \n",
       "892   Nizhny Novgorod (Strigino)  2017  48539.0   47505.0  54696.0  57602.0   \n",
       "1184  Nizhny Novgorod (Strigino)  2016  43542.0   45828.0  51168.0  48643.0   \n",
       "1476  Nizhny Novgorod (Strigino)  2015  51305.0   50359.0  54230.0  66345.0   \n",
       "\n",
       "           May      June      July    August  September   October  November  \\\n",
       "367   101102.0  122324.0  129924.0  132268.0   124669.0  102303.0   73845.0   \n",
       "616    97861.0  149100.0  136807.0  131040.0   123091.0   97462.0   70886.0   \n",
       "892    79164.0  105225.0  116091.0  117271.0   114493.0   87225.0   67052.0   \n",
       "1184   61393.0   81623.0   88390.0   89151.0    86748.0   72332.0   54485.0   \n",
       "1476   83482.0  111717.0  122882.0  120001.0   102646.0   78804.0   53381.0   \n",
       "\n",
       "      December  Whole year                           Airport coordinates  \n",
       "367     130.57   1114056.0  (Decimal('43.791127'), Decimal('56.219628'))  \n",
       "616      89.68   1134534.0  (Decimal('43.791127'), Decimal('56.219628'))  \n",
       "892     126.02    961491.0  (Decimal('43.791127'), Decimal('56.219628'))  \n",
       "1184    161.59    775679.0  (Decimal('43.791127'), Decimal('56.219628'))  \n",
       "1476    154.65    946334.0  (Decimal('43.791127'), Decimal('56.219628'))  "
      ]
     },
     "execution_count": 5,
     "metadata": {},
     "output_type": "execute_result"
    }
   ],
   "source": [
    "NNovgorod = df.groupby('Airport name').get_group('Nizhny Novgorod (Strigino)')\n",
    "NNovgorod = NNovgorod[NNovgorod['Year']<2020]\n",
    "NNovgorod.head()"
   ]
  },
  {
   "cell_type": "code",
   "execution_count": 9,
   "metadata": {},
   "outputs": [
    {
     "name": "stdout",
     "output_type": "stream",
     "text": [
      "Имеем всего данных по месяцам = 156\n"
     ]
    }
   ],
   "source": [
    "print('Имеем всего данных по месяцам =', len(NNovgorod)*12)"
   ]
  },
  {
   "cell_type": "code",
   "execution_count": 13,
   "metadata": {
    "collapsed": true
   },
   "outputs": [
    {
     "data": {
      "text/html": [
       "<div>\n",
       "<style scoped>\n",
       "    .dataframe tbody tr th:only-of-type {\n",
       "        vertical-align: middle;\n",
       "    }\n",
       "\n",
       "    .dataframe tbody tr th {\n",
       "        vertical-align: top;\n",
       "    }\n",
       "\n",
       "    .dataframe thead th {\n",
       "        text-align: right;\n",
       "    }\n",
       "</style>\n",
       "<table border=\"1\" class=\"dataframe\">\n",
       "  <thead>\n",
       "    <tr style=\"text-align: right;\">\n",
       "      <th></th>\n",
       "      <th>Airport name</th>\n",
       "      <th>Year</th>\n",
       "      <th>January</th>\n",
       "      <th>February</th>\n",
       "      <th>March</th>\n",
       "      <th>April</th>\n",
       "      <th>May</th>\n",
       "      <th>June</th>\n",
       "      <th>July</th>\n",
       "      <th>August</th>\n",
       "      <th>September</th>\n",
       "      <th>October</th>\n",
       "      <th>November</th>\n",
       "      <th>December</th>\n",
       "      <th>Whole year</th>\n",
       "      <th>Airport coordinates</th>\n",
       "    </tr>\n",
       "  </thead>\n",
       "  <tbody>\n",
       "    <tr>\n",
       "      <td>367</td>\n",
       "      <td>Nizhny Novgorod (Strigino)</td>\n",
       "      <td>2019</td>\n",
       "      <td>61818.0</td>\n",
       "      <td>53821.0</td>\n",
       "      <td>67102.0</td>\n",
       "      <td>76634.0</td>\n",
       "      <td>101102.0</td>\n",
       "      <td>122324.0</td>\n",
       "      <td>129924.0</td>\n",
       "      <td>132268.0</td>\n",
       "      <td>124669.0</td>\n",
       "      <td>102303.0</td>\n",
       "      <td>73845.0</td>\n",
       "      <td>68246.0</td>\n",
       "      <td>1114056.0</td>\n",
       "      <td>(Decimal('43.791127'), Decimal('56.219628'))</td>\n",
       "    </tr>\n",
       "    <tr>\n",
       "      <td>616</td>\n",
       "      <td>Nizhny Novgorod (Strigino)</td>\n",
       "      <td>2018</td>\n",
       "      <td>64228.0</td>\n",
       "      <td>58094.0</td>\n",
       "      <td>69330.0</td>\n",
       "      <td>70733.0</td>\n",
       "      <td>97861.0</td>\n",
       "      <td>149100.0</td>\n",
       "      <td>136807.0</td>\n",
       "      <td>131040.0</td>\n",
       "      <td>123091.0</td>\n",
       "      <td>97462.0</td>\n",
       "      <td>70886.0</td>\n",
       "      <td>65902.0</td>\n",
       "      <td>1134534.0</td>\n",
       "      <td>(Decimal('43.791127'), Decimal('56.219628'))</td>\n",
       "    </tr>\n",
       "    <tr>\n",
       "      <td>892</td>\n",
       "      <td>Nizhny Novgorod (Strigino)</td>\n",
       "      <td>2017</td>\n",
       "      <td>48539.0</td>\n",
       "      <td>47505.0</td>\n",
       "      <td>54696.0</td>\n",
       "      <td>57602.0</td>\n",
       "      <td>79164.0</td>\n",
       "      <td>105225.0</td>\n",
       "      <td>116091.0</td>\n",
       "      <td>117271.0</td>\n",
       "      <td>114493.0</td>\n",
       "      <td>87225.0</td>\n",
       "      <td>67052.0</td>\n",
       "      <td>66628.0</td>\n",
       "      <td>961491.0</td>\n",
       "      <td>(Decimal('43.791127'), Decimal('56.219628'))</td>\n",
       "    </tr>\n",
       "    <tr>\n",
       "      <td>1184</td>\n",
       "      <td>Nizhny Novgorod (Strigino)</td>\n",
       "      <td>2016</td>\n",
       "      <td>43542.0</td>\n",
       "      <td>45828.0</td>\n",
       "      <td>51168.0</td>\n",
       "      <td>48643.0</td>\n",
       "      <td>61393.0</td>\n",
       "      <td>81623.0</td>\n",
       "      <td>88390.0</td>\n",
       "      <td>89151.0</td>\n",
       "      <td>86748.0</td>\n",
       "      <td>72332.0</td>\n",
       "      <td>54485.0</td>\n",
       "      <td>52376.0</td>\n",
       "      <td>775679.0</td>\n",
       "      <td>(Decimal('43.791127'), Decimal('56.219628'))</td>\n",
       "    </tr>\n",
       "    <tr>\n",
       "      <td>1476</td>\n",
       "      <td>Nizhny Novgorod (Strigino)</td>\n",
       "      <td>2015</td>\n",
       "      <td>51305.0</td>\n",
       "      <td>50359.0</td>\n",
       "      <td>54230.0</td>\n",
       "      <td>66345.0</td>\n",
       "      <td>83482.0</td>\n",
       "      <td>111717.0</td>\n",
       "      <td>122882.0</td>\n",
       "      <td>120001.0</td>\n",
       "      <td>102646.0</td>\n",
       "      <td>78804.0</td>\n",
       "      <td>53381.0</td>\n",
       "      <td>51182.0</td>\n",
       "      <td>946334.0</td>\n",
       "      <td>(Decimal('43.791127'), Decimal('56.219628'))</td>\n",
       "    </tr>\n",
       "    <tr>\n",
       "      <td>1768</td>\n",
       "      <td>Nizhny Novgorod (Strigino)</td>\n",
       "      <td>2014</td>\n",
       "      <td>62250.0</td>\n",
       "      <td>62924.0</td>\n",
       "      <td>75476.0</td>\n",
       "      <td>77980.0</td>\n",
       "      <td>110223.0</td>\n",
       "      <td>124834.0</td>\n",
       "      <td>129608.0</td>\n",
       "      <td>130684.0</td>\n",
       "      <td>122201.0</td>\n",
       "      <td>92436.0</td>\n",
       "      <td>72159.0</td>\n",
       "      <td>65980.0</td>\n",
       "      <td>1126755.0</td>\n",
       "      <td>(Decimal('43.791127'), Decimal('56.219628'))</td>\n",
       "    </tr>\n",
       "    <tr>\n",
       "      <td>2060</td>\n",
       "      <td>Nizhny Novgorod (Strigino)</td>\n",
       "      <td>2013</td>\n",
       "      <td>51441.0</td>\n",
       "      <td>48021.0</td>\n",
       "      <td>59739.0</td>\n",
       "      <td>64638.0</td>\n",
       "      <td>75788.0</td>\n",
       "      <td>94255.0</td>\n",
       "      <td>99576.0</td>\n",
       "      <td>100116.0</td>\n",
       "      <td>96227.0</td>\n",
       "      <td>79446.0</td>\n",
       "      <td>72622.0</td>\n",
       "      <td>68146.0</td>\n",
       "      <td>910015.0</td>\n",
       "      <td>(Decimal('43.791127'), Decimal('56.219628'))</td>\n",
       "    </tr>\n",
       "    <tr>\n",
       "      <td>2352</td>\n",
       "      <td>Nizhny Novgorod (Strigino)</td>\n",
       "      <td>2012</td>\n",
       "      <td>36637.0</td>\n",
       "      <td>36553.0</td>\n",
       "      <td>44060.0</td>\n",
       "      <td>46909.0</td>\n",
       "      <td>61165.0</td>\n",
       "      <td>78170.0</td>\n",
       "      <td>83396.0</td>\n",
       "      <td>85728.0</td>\n",
       "      <td>82397.0</td>\n",
       "      <td>63570.0</td>\n",
       "      <td>62175.0</td>\n",
       "      <td>60861.0</td>\n",
       "      <td>741621.0</td>\n",
       "      <td>(Decimal('43.791127'), Decimal('56.219628'))</td>\n",
       "    </tr>\n",
       "    <tr>\n",
       "      <td>2644</td>\n",
       "      <td>Nizhny Novgorod (Strigino)</td>\n",
       "      <td>2011</td>\n",
       "      <td>18761.0</td>\n",
       "      <td>16387.0</td>\n",
       "      <td>17315.0</td>\n",
       "      <td>20641.0</td>\n",
       "      <td>35935.0</td>\n",
       "      <td>51489.0</td>\n",
       "      <td>57008.0</td>\n",
       "      <td>58506.0</td>\n",
       "      <td>55467.0</td>\n",
       "      <td>45093.0</td>\n",
       "      <td>42494.0</td>\n",
       "      <td>41204.0</td>\n",
       "      <td>460300.0</td>\n",
       "      <td>(Decimal('43.791127'), Decimal('56.219628'))</td>\n",
       "    </tr>\n",
       "    <tr>\n",
       "      <td>2936</td>\n",
       "      <td>Nizhny Novgorod (Strigino)</td>\n",
       "      <td>2010</td>\n",
       "      <td>16135.0</td>\n",
       "      <td>18037.0</td>\n",
       "      <td>23527.0</td>\n",
       "      <td>24871.0</td>\n",
       "      <td>32646.0</td>\n",
       "      <td>43811.0</td>\n",
       "      <td>45592.0</td>\n",
       "      <td>43490.0</td>\n",
       "      <td>42531.0</td>\n",
       "      <td>34306.0</td>\n",
       "      <td>26051.0</td>\n",
       "      <td>21063.0</td>\n",
       "      <td>372060.0</td>\n",
       "      <td>(Decimal('43.791127'), Decimal('56.219628'))</td>\n",
       "    </tr>\n",
       "    <tr>\n",
       "      <td>3228</td>\n",
       "      <td>Nizhny Novgorod (Strigino)</td>\n",
       "      <td>2009</td>\n",
       "      <td>14920.0</td>\n",
       "      <td>14333.0</td>\n",
       "      <td>15743.0</td>\n",
       "      <td>16607.0</td>\n",
       "      <td>23953.0</td>\n",
       "      <td>33716.0</td>\n",
       "      <td>35396.0</td>\n",
       "      <td>36442.0</td>\n",
       "      <td>34993.0</td>\n",
       "      <td>27750.0</td>\n",
       "      <td>20880.0</td>\n",
       "      <td>20299.0</td>\n",
       "      <td>295032.0</td>\n",
       "      <td>(Decimal('43.791127'), Decimal('56.219628'))</td>\n",
       "    </tr>\n",
       "    <tr>\n",
       "      <td>3520</td>\n",
       "      <td>Nizhny Novgorod (Strigino)</td>\n",
       "      <td>2008</td>\n",
       "      <td>19157.0</td>\n",
       "      <td>20467.0</td>\n",
       "      <td>23408.0</td>\n",
       "      <td>28972.0</td>\n",
       "      <td>30288.0</td>\n",
       "      <td>39540.0</td>\n",
       "      <td>43789.0</td>\n",
       "      <td>44052.0</td>\n",
       "      <td>37130.0</td>\n",
       "      <td>27057.0</td>\n",
       "      <td>20011.0</td>\n",
       "      <td>18753.0</td>\n",
       "      <td>352624.0</td>\n",
       "      <td>(Decimal('43.791127'), Decimal('56.219628'))</td>\n",
       "    </tr>\n",
       "    <tr>\n",
       "      <td>3812</td>\n",
       "      <td>Nizhny Novgorod (Strigino)</td>\n",
       "      <td>2007</td>\n",
       "      <td>12040.0</td>\n",
       "      <td>13257.0</td>\n",
       "      <td>17208.0</td>\n",
       "      <td>20070.0</td>\n",
       "      <td>20575.0</td>\n",
       "      <td>26588.0</td>\n",
       "      <td>31187.0</td>\n",
       "      <td>33052.0</td>\n",
       "      <td>28120.0</td>\n",
       "      <td>23501.0</td>\n",
       "      <td>25332.0</td>\n",
       "      <td>23598.0</td>\n",
       "      <td>274528.0</td>\n",
       "      <td>(Decimal('43.791127'), Decimal('56.219628'))</td>\n",
       "    </tr>\n",
       "  </tbody>\n",
       "</table>\n",
       "</div>"
      ],
      "text/plain": [
       "                    Airport name  Year  January  February    March    April  \\\n",
       "367   Nizhny Novgorod (Strigino)  2019  61818.0   53821.0  67102.0  76634.0   \n",
       "616   Nizhny Novgorod (Strigino)  2018  64228.0   58094.0  69330.0  70733.0   \n",
       "892   Nizhny Novgorod (Strigino)  2017  48539.0   47505.0  54696.0  57602.0   \n",
       "1184  Nizhny Novgorod (Strigino)  2016  43542.0   45828.0  51168.0  48643.0   \n",
       "1476  Nizhny Novgorod (Strigino)  2015  51305.0   50359.0  54230.0  66345.0   \n",
       "1768  Nizhny Novgorod (Strigino)  2014  62250.0   62924.0  75476.0  77980.0   \n",
       "2060  Nizhny Novgorod (Strigino)  2013  51441.0   48021.0  59739.0  64638.0   \n",
       "2352  Nizhny Novgorod (Strigino)  2012  36637.0   36553.0  44060.0  46909.0   \n",
       "2644  Nizhny Novgorod (Strigino)  2011  18761.0   16387.0  17315.0  20641.0   \n",
       "2936  Nizhny Novgorod (Strigino)  2010  16135.0   18037.0  23527.0  24871.0   \n",
       "3228  Nizhny Novgorod (Strigino)  2009  14920.0   14333.0  15743.0  16607.0   \n",
       "3520  Nizhny Novgorod (Strigino)  2008  19157.0   20467.0  23408.0  28972.0   \n",
       "3812  Nizhny Novgorod (Strigino)  2007  12040.0   13257.0  17208.0  20070.0   \n",
       "\n",
       "           May      June      July    August  September   October  November  \\\n",
       "367   101102.0  122324.0  129924.0  132268.0   124669.0  102303.0   73845.0   \n",
       "616    97861.0  149100.0  136807.0  131040.0   123091.0   97462.0   70886.0   \n",
       "892    79164.0  105225.0  116091.0  117271.0   114493.0   87225.0   67052.0   \n",
       "1184   61393.0   81623.0   88390.0   89151.0    86748.0   72332.0   54485.0   \n",
       "1476   83482.0  111717.0  122882.0  120001.0   102646.0   78804.0   53381.0   \n",
       "1768  110223.0  124834.0  129608.0  130684.0   122201.0   92436.0   72159.0   \n",
       "2060   75788.0   94255.0   99576.0  100116.0    96227.0   79446.0   72622.0   \n",
       "2352   61165.0   78170.0   83396.0   85728.0    82397.0   63570.0   62175.0   \n",
       "2644   35935.0   51489.0   57008.0   58506.0    55467.0   45093.0   42494.0   \n",
       "2936   32646.0   43811.0   45592.0   43490.0    42531.0   34306.0   26051.0   \n",
       "3228   23953.0   33716.0   35396.0   36442.0    34993.0   27750.0   20880.0   \n",
       "3520   30288.0   39540.0   43789.0   44052.0    37130.0   27057.0   20011.0   \n",
       "3812   20575.0   26588.0   31187.0   33052.0    28120.0   23501.0   25332.0   \n",
       "\n",
       "      December  Whole year                           Airport coordinates  \n",
       "367    68246.0   1114056.0  (Decimal('43.791127'), Decimal('56.219628'))  \n",
       "616    65902.0   1134534.0  (Decimal('43.791127'), Decimal('56.219628'))  \n",
       "892    66628.0    961491.0  (Decimal('43.791127'), Decimal('56.219628'))  \n",
       "1184   52376.0    775679.0  (Decimal('43.791127'), Decimal('56.219628'))  \n",
       "1476   51182.0    946334.0  (Decimal('43.791127'), Decimal('56.219628'))  \n",
       "1768   65980.0   1126755.0  (Decimal('43.791127'), Decimal('56.219628'))  \n",
       "2060   68146.0    910015.0  (Decimal('43.791127'), Decimal('56.219628'))  \n",
       "2352   60861.0    741621.0  (Decimal('43.791127'), Decimal('56.219628'))  \n",
       "2644   41204.0    460300.0  (Decimal('43.791127'), Decimal('56.219628'))  \n",
       "2936   21063.0    372060.0  (Decimal('43.791127'), Decimal('56.219628'))  \n",
       "3228   20299.0    295032.0  (Decimal('43.791127'), Decimal('56.219628'))  \n",
       "3520   18753.0    352624.0  (Decimal('43.791127'), Decimal('56.219628'))  \n",
       "3812   23598.0    274528.0  (Decimal('43.791127'), Decimal('56.219628'))  "
      ]
     },
     "execution_count": 13,
     "metadata": {},
     "output_type": "execute_result"
    }
   ],
   "source": [
    "#Декабрь в базе приведен неверно: надо из всего года вычесть все остальные месяцы. Проделываем эту операцию.\n",
    "\n",
    "months = ['January','February','March','April','May','June','July','August','September','October','November','December']\n",
    "NNovgorod['December'] = NNovgorod['Whole year']  - NNovgorod[months[:-1]].sum(axis = 1)\n",
    "NNovgorod"
   ]
  },
  {
   "cell_type": "code",
   "execution_count": 22,
   "metadata": {},
   "outputs": [],
   "source": [
    "N = np.array(NNovgorod[months])[::-1] # Переставляем года в порядке возрастания\n",
    "N1 = N.flatten() # Вытягиваем двумерный массив в одномерный\n",
    "NInThousand=K1/1000 #Будем рассматривать значение пассажиропотока в тысячах"
   ]
  },
  {
   "cell_type": "code",
   "execution_count": 23,
   "metadata": {
    "collapsed": true
   },
   "outputs": [
    {
     "data": {
      "text/html": [
       "<div>\n",
       "<style scoped>\n",
       "    .dataframe tbody tr th:only-of-type {\n",
       "        vertical-align: middle;\n",
       "    }\n",
       "\n",
       "    .dataframe tbody tr th {\n",
       "        vertical-align: top;\n",
       "    }\n",
       "\n",
       "    .dataframe thead th {\n",
       "        text-align: right;\n",
       "    }\n",
       "</style>\n",
       "<table border=\"1\" class=\"dataframe\">\n",
       "  <thead>\n",
       "    <tr style=\"text-align: right;\">\n",
       "      <th></th>\n",
       "      <th>pas</th>\n",
       "    </tr>\n",
       "  </thead>\n",
       "  <tbody>\n",
       "    <tr>\n",
       "      <td>0</td>\n",
       "      <td>12.040</td>\n",
       "    </tr>\n",
       "    <tr>\n",
       "      <td>1</td>\n",
       "      <td>13.257</td>\n",
       "    </tr>\n",
       "    <tr>\n",
       "      <td>2</td>\n",
       "      <td>17.208</td>\n",
       "    </tr>\n",
       "    <tr>\n",
       "      <td>3</td>\n",
       "      <td>20.070</td>\n",
       "    </tr>\n",
       "    <tr>\n",
       "      <td>4</td>\n",
       "      <td>20.575</td>\n",
       "    </tr>\n",
       "    <tr>\n",
       "      <td>...</td>\n",
       "      <td>...</td>\n",
       "    </tr>\n",
       "    <tr>\n",
       "      <td>151</td>\n",
       "      <td>132.268</td>\n",
       "    </tr>\n",
       "    <tr>\n",
       "      <td>152</td>\n",
       "      <td>124.669</td>\n",
       "    </tr>\n",
       "    <tr>\n",
       "      <td>153</td>\n",
       "      <td>102.303</td>\n",
       "    </tr>\n",
       "    <tr>\n",
       "      <td>154</td>\n",
       "      <td>73.845</td>\n",
       "    </tr>\n",
       "    <tr>\n",
       "      <td>155</td>\n",
       "      <td>68.246</td>\n",
       "    </tr>\n",
       "  </tbody>\n",
       "</table>\n",
       "<p>156 rows × 1 columns</p>\n",
       "</div>"
      ],
      "text/plain": [
       "         pas\n",
       "0     12.040\n",
       "1     13.257\n",
       "2     17.208\n",
       "3     20.070\n",
       "4     20.575\n",
       "..       ...\n",
       "151  132.268\n",
       "152  124.669\n",
       "153  102.303\n",
       "154   73.845\n",
       "155   68.246\n",
       "\n",
       "[156 rows x 1 columns]"
      ]
     },
     "execution_count": 23,
     "metadata": {},
     "output_type": "execute_result"
    }
   ],
   "source": [
    "Data = pd.DataFrame(NInThousand, columns = ['pas']) # Собираем новый датафрейм\n",
    "Data"
   ]
  },
  {
   "cell_type": "code",
   "execution_count": 35,
   "metadata": {},
   "outputs": [
    {
     "data": {
      "image/png": "[encoded data removed]",
      "text/plain": [
       "<Figure size 1296x576 with 1 Axes>"
      ]
     },
     "metadata": {
      "needs_background": "light"
     },
     "output_type": "display_data"
    }
   ],
   "source": [
    "Data.plot(figsize=(18,8), title = 'Пассажиропоток по месяцам, начиная с 2007 года (в тыс. человек)'\n",
    "          ,grid = True) # строим график\n",
    "pass"
   ]
  },
  {
   "cell_type": "markdown",
   "metadata": {},
   "source": [
    "### По рисунку видно, что график немного съезжает. Идея:  стационарности нет. Проверим это. "
   ]
  },
  {
   "cell_type": "markdown",
   "metadata": {},
   "source": [
    "Проведем тест Дики-Фулера\n",
    "Нулевая гипотеза, что единичный корень - есть, то есть, что $\\textbf{стационарность отсутствует}$.\n",
    "\n",
    "В ответе - первой строчкой идёт значение статистики, а потом в фигурных скобках перечислены критические точки для трех уровней значимости. Критическое множество - слева."
   ]
  },
  {
   "cell_type": "code",
   "execution_count": 36,
   "metadata": {},
   "outputs": [
    {
     "name": "stdout",
     "output_type": "stream",
     "text": [
      "ADF Statistic: -1.178943\n",
      "p-value: 0.682588\n",
      "Critical Values:\n",
      "\t1%: -3.477\n",
      "\t5%: -2.882\n",
      "\t10%: -2.578\n",
      "Failed to Reject Ho - Time Series is Non-Stationary\n"
     ]
    }
   ],
   "source": [
    "test = sm.tsa.adfuller(Data['pas'])\n",
    "\n",
    "# Напишем код для интерпритации результатов\n",
    "print('ADF Statistic: %f' % test[0])\n",
    "print('p-value: %f' % test[1])\n",
    "print('Critical Values:')\n",
    "for key, value in test[4].items():\n",
    "    print('\\t%s: %.3f' % (key, value))\n",
    "\n",
    "if test[0] < test[4][\"5%\"]:\n",
    "    print (\"Reject Ho - Time Series is Stationary\")\n",
    "else:\n",
    "    print (\"Failed to Reject Ho - Time Series is Non-Stationary\")"
   ]
  },
  {
   "cell_type": "code",
   "execution_count": 42,
   "metadata": {},
   "outputs": [
    {
     "data": {
      "text/html": [
       "<div>\n",
       "<style scoped>\n",
       "    .dataframe tbody tr th:only-of-type {\n",
       "        vertical-align: middle;\n",
       "    }\n",
       "\n",
       "    .dataframe tbody tr th {\n",
       "        vertical-align: top;\n",
       "    }\n",
       "\n",
       "    .dataframe thead th {\n",
       "        text-align: right;\n",
       "    }\n",
       "</style>\n",
       "<table border=\"1\" class=\"dataframe\">\n",
       "  <thead>\n",
       "    <tr style=\"text-align: right;\">\n",
       "      <th></th>\n",
       "      <th>pas</th>\n",
       "    </tr>\n",
       "  </thead>\n",
       "  <tbody>\n",
       "    <tr>\n",
       "      <td>1</td>\n",
       "      <td>1.217</td>\n",
       "    </tr>\n",
       "    <tr>\n",
       "      <td>2</td>\n",
       "      <td>3.951</td>\n",
       "    </tr>\n",
       "    <tr>\n",
       "      <td>3</td>\n",
       "      <td>2.862</td>\n",
       "    </tr>\n",
       "    <tr>\n",
       "      <td>4</td>\n",
       "      <td>0.505</td>\n",
       "    </tr>\n",
       "    <tr>\n",
       "      <td>5</td>\n",
       "      <td>6.013</td>\n",
       "    </tr>\n",
       "    <tr>\n",
       "      <td>...</td>\n",
       "      <td>...</td>\n",
       "    </tr>\n",
       "    <tr>\n",
       "      <td>151</td>\n",
       "      <td>2.344</td>\n",
       "    </tr>\n",
       "    <tr>\n",
       "      <td>152</td>\n",
       "      <td>-7.599</td>\n",
       "    </tr>\n",
       "    <tr>\n",
       "      <td>153</td>\n",
       "      <td>-22.366</td>\n",
       "    </tr>\n",
       "    <tr>\n",
       "      <td>154</td>\n",
       "      <td>-28.458</td>\n",
       "    </tr>\n",
       "    <tr>\n",
       "      <td>155</td>\n",
       "      <td>-5.599</td>\n",
       "    </tr>\n",
       "  </tbody>\n",
       "</table>\n",
       "<p>155 rows × 1 columns</p>\n",
       "</div>"
      ],
      "text/plain": [
       "        pas\n",
       "1     1.217\n",
       "2     3.951\n",
       "3     2.862\n",
       "4     0.505\n",
       "5     6.013\n",
       "..      ...\n",
       "151   2.344\n",
       "152  -7.599\n",
       "153 -22.366\n",
       "154 -28.458\n",
       "155  -5.599\n",
       "\n",
       "[155 rows x 1 columns]"
      ]
     },
     "execution_count": 42,
     "metadata": {},
     "output_type": "execute_result"
    }
   ],
   "source": [
    "# Считаем разности между соседними \n",
    "Datadiff1 = Data.diff(periods=1).dropna()\n",
    "Datadiff1"
   ]
  },
  {
   "cell_type": "code",
   "execution_count": 44,
   "metadata": {},
   "outputs": [
    {
     "name": "stdout",
     "output_type": "stream",
     "text": [
      "ADF Statistic: -3.023256\n",
      "p-value: 0.032779\n",
      "Critical Values:\n",
      "\t1%: -3.477\n",
      "\t5%: -2.882\n",
      "\t10%: -2.578\n",
      "Reject Ho - Time Series is Stationary\n"
     ]
    }
   ],
   "source": [
    "# Повторно используем критерий Дики - Фулера\n",
    "test1 = sm.tsa.adfuller(Datadiff1['pas'])\n",
    "\n",
    "# Напишем код для интерпритации результатов\n",
    "print('ADF Statistic: %f' % test1[0])\n",
    "print('p-value: %f' % test1[1])\n",
    "print('Critical Values:')\n",
    "for key, value in test1[4].items():\n",
    "    print('\\t%s: %.3f' % (key, value))\n",
    "\n",
    "if test1[0] < test1[4][\"5%\"]:\n",
    "    print (\"Reject Ho - Time Series is Stationary\")\n",
    "else:\n",
    "    print (\"Failed to Reject Ho - Time Series is Non-Stationary\")"
   ]
  },
  {
   "cell_type": "markdown",
   "metadata": {},
   "source": [
    "Отлично! Видим, что на уровне значимости 5% можно считать, что ряд стационарен. Нарисуем график."
   ]
  },
  {
   "cell_type": "code",
   "execution_count": 46,
   "metadata": {},
   "outputs": [
    {
     "data": {
      "image/png": "[encoded data removed]",
      "text/plain": [
       "<Figure size 1296x576 with 1 Axes>"
      ]
     },
     "metadata": {
      "needs_background": "light"
     },
     "output_type": "display_data"
    }
   ],
   "source": [
    "Datadiff1.plot(figsize=(18,8), title = 'Пассажиропоток (разности) по месяцам, начиная с 2007 года (в тыс. человек)'\n",
    "          ,grid = True) # строим график\n",
    "pass"
   ]
  },
  {
   "cell_type": "markdown",
   "metadata": {},
   "source": [
    "Видим по графику сильную сезонность."
   ]
  },
  {
   "cell_type": "code",
   "execution_count": 48,
   "metadata": {},
   "outputs": [
    {
     "data": {
      "image/png": "[encoded data removed]",
      "text/plain": [
       "<Figure size 1440x864 with 2 Axes>"
      ]
     },
     "metadata": {
      "needs_background": "light"
     },
     "output_type": "display_data"
    }
   ],
   "source": [
    "# Строим автокорреляцию\n",
    "fig = plt.figure(figsize=(20,12))\n",
    "ax1 = fig.add_subplot(211)\n",
    "fig = sm.graphics.tsa.plot_acf(Datadiff1.values.squeeze(), lags=40, ax=ax1)\n",
    "ax2 = fig.add_subplot(212)\n",
    "fig = sm.graphics.tsa.plot_pacf(Datadiff1, lags=40, ax=ax2)"
   ]
  },
  {
   "cell_type": "markdown",
   "metadata": {},
   "source": [
    "Из вышепреведённых графиков трудно сделать какой-то чёткий вывод."
   ]
  },
  {
   "cell_type": "code",
   "execution_count": 115,
   "metadata": {},
   "outputs": [
    {
     "name": "stdout",
     "output_type": "stream",
     "text": [
      "                                 Statespace Model Results                                \n",
      "=========================================================================================\n",
      "Dep. Variable:                               pas   No. Observations:                  144\n",
      "Model:             SARIMAX(1, 1, 3)x(4, 1, 4, 6)   Log Likelihood                -439.272\n",
      "Date:                           Wed, 27 May 2020   AIC                            904.544\n",
      "Time:                                   19:15:32   BIC                            942.504\n",
      "Sample:                                        0   HQIC                           919.970\n",
      "                                           - 144                                         \n",
      "Covariance Type:                             opg                                         \n",
      "==============================================================================\n",
      "                 coef    std err          z      P>|z|      [0.025      0.975]\n",
      "------------------------------------------------------------------------------\n",
      "ar.L1          0.9194      0.164      5.620      0.000       0.599       1.240\n",
      "ma.L1         -0.8566      0.450     -1.903      0.057      -1.739       0.025\n",
      "ma.L2         -0.0370      0.139     -0.266      0.790      -0.310       0.236\n",
      "ma.L3         -0.0893      0.132     -0.674      0.500      -0.349       0.170\n",
      "ar.S.L6       -0.9892      0.319     -3.096      0.002      -1.615      -0.363\n",
      "ar.S.L12       0.9597      0.235      4.088      0.000       0.500       1.420\n",
      "ar.S.L18       0.9918      0.385      2.574      0.010       0.237       1.747\n",
      "ar.S.L24       0.0365      0.296      0.123      0.902      -0.544       0.617\n",
      "ma.S.L6       -0.0636      0.450     -0.141      0.888      -0.946       0.819\n",
      "ma.S.L12      -1.5179      0.750     -2.023      0.043      -2.988      -0.047\n",
      "ma.S.L18       0.0153      0.162      0.095      0.925      -0.301       0.332\n",
      "ma.S.L24       0.5725      0.391      1.464      0.143      -0.194       1.339\n",
      "sigma2        29.5648     20.441      1.446      0.148     -10.499      69.629\n",
      "===================================================================================\n",
      "Ljung-Box (Q):                       26.54   Jarque-Bera (JB):               198.17\n",
      "Prob(Q):                              0.95   Prob(JB):                         0.00\n",
      "Heteroskedasticity (H):               6.71   Skew:                             0.35\n",
      "Prob(H) (two-sided):                  0.00   Kurtosis:                         8.85\n",
      "===================================================================================\n",
      "\n",
      "Warnings:\n",
      "[1] Covariance matrix calculated using the outer product of gradients (complex-step).\n"
     ]
    },
    {
     "name": "stderr",
     "output_type": "stream",
     "text": [
      "/Users/alex/opt/anaconda3/lib/python3.7/site-packages/statsmodels/base/model.py:512: ConvergenceWarning: Maximum Likelihood optimization failed to converge. Check mle_retvals\n",
      "  \"Check mle_retvals\", ConvergenceWarning)\n"
     ]
    }
   ],
   "source": [
    "# Попытаемся подобрать модель. Будем использовать \"Seasonal AutoRegressive Integrated Moving Average with eXogenous regressors model\"\n",
    "\n",
    "M = sm.tsa.statespace.SARIMAX(Data[:144], order=[1, 1, 3], seasonal_order=[4, 1, 4, 6], trend=None).fit()\n",
    "print(M.summary())"
   ]
  },
  {
   "cell_type": "markdown",
   "metadata": {},
   "source": [
    "Для более точного предсказания сделаем следующую манипуляцию.\n",
    "\n",
    "В модели авторегрессии мы можем найти ошибки: M.forecasts_error[0] (массив)\n",
    "\n",
    "Идея будет состоять в следующем: мы сделаем достаточно хаотичный перебор (поставим условные границы на параметры модели) и будем отдавать предпочтение тем параметрам, при которых сумма модулей ошибок будет наименьшей. Напишем перебор(сначала по параметрам order):"
   ]
  },
  {
   "cell_type": "code",
   "execution_count": 94,
   "metadata": {
    "collapsed": true
   },
   "outputs": [
    {
     "name": "stderr",
     "output_type": "stream",
     "text": [
      "/Users/alex/opt/anaconda3/lib/python3.7/site-packages/statsmodels/base/model.py:512: ConvergenceWarning: Maximum Likelihood optimization failed to converge. Check mle_retvals\n",
      "  \"Check mle_retvals\", ConvergenceWarning)\n"
     ]
    },
    {
     "name": "stdout",
     "output_type": "stream",
     "text": [
      "i,j,k,rez = 0 0 0 2013.150311609228\n",
      "i,j,k,rez = 0 0 1 1473.4351395507178\n",
      "i,j,k,rez = 0 0 2 1302.8821327378719\n",
      "i,j,k,rez = 0 0 3 1223.269010080686\n",
      "i,j,k,rez = 0 1 0 948.1620420992634\n",
      "i,j,k,rez = 0 1 1 918.6375281427013\n",
      "i,j,k,rez = 0 1 2 937.876190130607\n",
      "i,j,k,rez = 0 1 3 908.2800460704241\n",
      "i,j,k,rez = 0 2 0 1099.618380018135\n"
     ]
    },
    {
     "name": "stderr",
     "output_type": "stream",
     "text": [
      "/Users/alex/opt/anaconda3/lib/python3.7/site-packages/statsmodels/base/model.py:512: ConvergenceWarning: Maximum Likelihood optimization failed to converge. Check mle_retvals\n",
      "  \"Check mle_retvals\", ConvergenceWarning)\n"
     ]
    },
    {
     "name": "stdout",
     "output_type": "stream",
     "text": [
      "i,j,k,rez = 0 2 1 964.2931752763171\n"
     ]
    },
    {
     "name": "stderr",
     "output_type": "stream",
     "text": [
      "/Users/alex/opt/anaconda3/lib/python3.7/site-packages/statsmodels/base/model.py:512: ConvergenceWarning: Maximum Likelihood optimization failed to converge. Check mle_retvals\n",
      "  \"Check mle_retvals\", ConvergenceWarning)\n"
     ]
    },
    {
     "name": "stdout",
     "output_type": "stream",
     "text": [
      "i,j,k,rez = 0 2 2 936.3026278077795\n",
      "i,j,k,rez = 0 2 3 953.0809019458835\n",
      "i,j,k,rez = 0 3 0 1501.6705780442473\n"
     ]
    },
    {
     "name": "stderr",
     "output_type": "stream",
     "text": [
      "/Users/alex/opt/anaconda3/lib/python3.7/site-packages/statsmodels/base/model.py:512: ConvergenceWarning: Maximum Likelihood optimization failed to converge. Check mle_retvals\n",
      "  \"Check mle_retvals\", ConvergenceWarning)\n"
     ]
    },
    {
     "name": "stdout",
     "output_type": "stream",
     "text": [
      "i,j,k,rez = 0 3 1 1148.6626144435916\n"
     ]
    },
    {
     "name": "stderr",
     "output_type": "stream",
     "text": [
      "/Users/alex/opt/anaconda3/lib/python3.7/site-packages/statsmodels/base/model.py:512: ConvergenceWarning: Maximum Likelihood optimization failed to converge. Check mle_retvals\n",
      "  \"Check mle_retvals\", ConvergenceWarning)\n"
     ]
    },
    {
     "name": "stdout",
     "output_type": "stream",
     "text": [
      "i,j,k,rez = 0 3 2 1001.5927102152393\n",
      "i,j,k,rez = 0 3 3 972.5897906516566\n",
      "i,j,k,rez = 1 0 0 1177.1355078837128\n",
      "i,j,k,rez = 1 0 1 1159.275876753518\n",
      "i,j,k,rez = 1 0 2 1160.712745345586\n",
      "i,j,k,rez = 1 0 3 1131.079332589359\n",
      "i,j,k,rez = 1 1 0 913.8865436700873\n",
      "i,j,k,rez = 1 1 1 929.7514222330138\n",
      "i,j,k,rez = 1 1 2 933.0915352235764\n",
      "i,j,k,rez = 1 1 3 907.6191688291904\n",
      "i,j,k,rez = 1 2 0 1052.4625218883318\n"
     ]
    },
    {
     "name": "stderr",
     "output_type": "stream",
     "text": [
      "/Users/alex/opt/anaconda3/lib/python3.7/site-packages/statsmodels/base/model.py:512: ConvergenceWarning: Maximum Likelihood optimization failed to converge. Check mle_retvals\n",
      "  \"Check mle_retvals\", ConvergenceWarning)\n"
     ]
    },
    {
     "name": "stdout",
     "output_type": "stream",
     "text": [
      "i,j,k,rez = 1 2 1 929.5422329083284\n"
     ]
    },
    {
     "name": "stderr",
     "output_type": "stream",
     "text": [
      "/Users/alex/opt/anaconda3/lib/python3.7/site-packages/statsmodels/base/model.py:512: ConvergenceWarning: Maximum Likelihood optimization failed to converge. Check mle_retvals\n",
      "  \"Check mle_retvals\", ConvergenceWarning)\n"
     ]
    },
    {
     "name": "stdout",
     "output_type": "stream",
     "text": [
      "i,j,k,rez = 1 2 2 947.1123266497073\n",
      "i,j,k,rez = 1 2 3 935.1005491209999\n",
      "i,j,k,rez = 1 3 0 1327.7033889648092\n"
     ]
    },
    {
     "name": "stderr",
     "output_type": "stream",
     "text": [
      "/Users/alex/opt/anaconda3/lib/python3.7/site-packages/statsmodels/base/model.py:512: ConvergenceWarning: Maximum Likelihood optimization failed to converge. Check mle_retvals\n",
      "  \"Check mle_retvals\", ConvergenceWarning)\n"
     ]
    },
    {
     "name": "stdout",
     "output_type": "stream",
     "text": [
      "i,j,k,rez = 1 3 1 1097.1054578300354\n"
     ]
    },
    {
     "name": "stderr",
     "output_type": "stream",
     "text": [
      "/Users/alex/opt/anaconda3/lib/python3.7/site-packages/statsmodels/base/model.py:512: ConvergenceWarning: Maximum Likelihood optimization failed to converge. Check mle_retvals\n",
      "  \"Check mle_retvals\", ConvergenceWarning)\n"
     ]
    },
    {
     "name": "stdout",
     "output_type": "stream",
     "text": [
      "i,j,k,rez = 1 3 2 1055.9825349312357\n"
     ]
    },
    {
     "name": "stderr",
     "output_type": "stream",
     "text": [
      "/Users/alex/opt/anaconda3/lib/python3.7/site-packages/statsmodels/base/model.py:512: ConvergenceWarning: Maximum Likelihood optimization failed to converge. Check mle_retvals\n",
      "  \"Check mle_retvals\", ConvergenceWarning)\n"
     ]
    },
    {
     "name": "stdout",
     "output_type": "stream",
     "text": [
      "i,j,k,rez = 1 3 3 1001.4151385919735\n",
      "i,j,k,rez = 2 0 0 1148.1776856777744\n",
      "i,j,k,rez = 2 0 1 1163.4405455894184\n",
      "i,j,k,rez = 2 0 2 1161.7850964314694\n",
      "i,j,k,rez = 2 0 3 1124.0592959223611\n",
      "i,j,k,rez = 2 1 0 929.8283950365744\n",
      "i,j,k,rez = 2 1 1 935.221863844111\n"
     ]
    },
    {
     "name": "stderr",
     "output_type": "stream",
     "text": [
      "/Users/alex/opt/anaconda3/lib/python3.7/site-packages/statsmodels/base/model.py:512: ConvergenceWarning: Maximum Likelihood optimization failed to converge. Check mle_retvals\n",
      "  \"Check mle_retvals\", ConvergenceWarning)\n"
     ]
    },
    {
     "name": "stdout",
     "output_type": "stream",
     "text": [
      "i,j,k,rez = 2 1 2 867.2383221380385\n"
     ]
    },
    {
     "name": "stderr",
     "output_type": "stream",
     "text": [
      "/Users/alex/opt/anaconda3/lib/python3.7/site-packages/statsmodels/base/model.py:512: ConvergenceWarning: Maximum Likelihood optimization failed to converge. Check mle_retvals\n",
      "  \"Check mle_retvals\", ConvergenceWarning)\n"
     ]
    },
    {
     "name": "stdout",
     "output_type": "stream",
     "text": [
      "i,j,k,rez = 2 1 3 844.0789710327938\n",
      "i,j,k,rez = 2 2 0 1022.6324063519144\n",
      "i,j,k,rez = 2 2 1 1019.0774288404372\n"
     ]
    },
    {
     "name": "stderr",
     "output_type": "stream",
     "text": [
      "/Users/alex/opt/anaconda3/lib/python3.7/site-packages/statsmodels/base/model.py:512: ConvergenceWarning: Maximum Likelihood optimization failed to converge. Check mle_retvals\n",
      "  \"Check mle_retvals\", ConvergenceWarning)\n"
     ]
    },
    {
     "name": "stdout",
     "output_type": "stream",
     "text": [
      "i,j,k,rez = 2 2 2 913.7709259318057\n"
     ]
    },
    {
     "name": "stderr",
     "output_type": "stream",
     "text": [
      "/Users/alex/opt/anaconda3/lib/python3.7/site-packages/statsmodels/base/model.py:512: ConvergenceWarning: Maximum Likelihood optimization failed to converge. Check mle_retvals\n",
      "  \"Check mle_retvals\", ConvergenceWarning)\n"
     ]
    },
    {
     "name": "stdout",
     "output_type": "stream",
     "text": [
      "i,j,k,rez = 2 2 3 918.1022550857846\n",
      "i,j,k,rez = 2 3 0 1223.711666643187\n"
     ]
    },
    {
     "name": "stderr",
     "output_type": "stream",
     "text": [
      "/Users/alex/opt/anaconda3/lib/python3.7/site-packages/statsmodels/base/model.py:512: ConvergenceWarning: Maximum Likelihood optimization failed to converge. Check mle_retvals\n",
      "  \"Check mle_retvals\", ConvergenceWarning)\n"
     ]
    },
    {
     "name": "stdout",
     "output_type": "stream",
     "text": [
      "i,j,k,rez = 2 3 1 1058.71216182546\n"
     ]
    },
    {
     "name": "stderr",
     "output_type": "stream",
     "text": [
      "/Users/alex/opt/anaconda3/lib/python3.7/site-packages/statsmodels/base/model.py:512: ConvergenceWarning: Maximum Likelihood optimization failed to converge. Check mle_retvals\n",
      "  \"Check mle_retvals\", ConvergenceWarning)\n"
     ]
    },
    {
     "name": "stdout",
     "output_type": "stream",
     "text": [
      "i,j,k,rez = 2 3 2 1057.8216793464599\n"
     ]
    },
    {
     "name": "stderr",
     "output_type": "stream",
     "text": [
      "/Users/alex/opt/anaconda3/lib/python3.7/site-packages/statsmodels/base/model.py:512: ConvergenceWarning: Maximum Likelihood optimization failed to converge. Check mle_retvals\n",
      "  \"Check mle_retvals\", ConvergenceWarning)\n"
     ]
    },
    {
     "name": "stdout",
     "output_type": "stream",
     "text": [
      "i,j,k,rez = 2 3 3 955.1117145693518\n",
      "i,j,k,rez = 3 0 0 1145.6697112748614\n",
      "i,j,k,rez = 3 0 1 1153.9504748389352\n"
     ]
    },
    {
     "name": "stderr",
     "output_type": "stream",
     "text": [
      "/Users/alex/opt/anaconda3/lib/python3.7/site-packages/statsmodels/base/model.py:512: ConvergenceWarning: Maximum Likelihood optimization failed to converge. Check mle_retvals\n",
      "  \"Check mle_retvals\", ConvergenceWarning)\n"
     ]
    },
    {
     "name": "stdout",
     "output_type": "stream",
     "text": [
      "i,j,k,rez = 3 0 2 1071.7981328703704\n"
     ]
    },
    {
     "name": "stderr",
     "output_type": "stream",
     "text": [
      "/Users/alex/opt/anaconda3/lib/python3.7/site-packages/statsmodels/base/model.py:512: ConvergenceWarning: Maximum Likelihood optimization failed to converge. Check mle_retvals\n",
      "  \"Check mle_retvals\", ConvergenceWarning)\n"
     ]
    },
    {
     "name": "stdout",
     "output_type": "stream",
     "text": [
      "i,j,k,rez = 3 0 3 1107.8653443931378\n",
      "i,j,k,rez = 3 1 0 929.0873198448963\n",
      "i,j,k,rez = 3 1 1 931.6394430735843\n"
     ]
    },
    {
     "name": "stderr",
     "output_type": "stream",
     "text": [
      "/Users/alex/opt/anaconda3/lib/python3.7/site-packages/statsmodels/base/model.py:512: ConvergenceWarning: Maximum Likelihood optimization failed to converge. Check mle_retvals\n",
      "  \"Check mle_retvals\", ConvergenceWarning)\n"
     ]
    },
    {
     "name": "stdout",
     "output_type": "stream",
     "text": [
      "i,j,k,rez = 3 1 2 819.9173976282991\n"
     ]
    },
    {
     "name": "stderr",
     "output_type": "stream",
     "text": [
      "/Users/alex/opt/anaconda3/lib/python3.7/site-packages/statsmodels/base/model.py:512: ConvergenceWarning: Maximum Likelihood optimization failed to converge. Check mle_retvals\n",
      "  \"Check mle_retvals\", ConvergenceWarning)\n"
     ]
    },
    {
     "name": "stdout",
     "output_type": "stream",
     "text": [
      "i,j,k,rez = 3 1 3 852.4712461207039\n",
      "i,j,k,rez = 3 2 0 1018.3859816127637\n",
      "i,j,k,rez = 3 2 1 1017.4223095327811\n"
     ]
    },
    {
     "name": "stderr",
     "output_type": "stream",
     "text": [
      "/Users/alex/opt/anaconda3/lib/python3.7/site-packages/statsmodels/base/model.py:512: ConvergenceWarning: Maximum Likelihood optimization failed to converge. Check mle_retvals\n",
      "  \"Check mle_retvals\", ConvergenceWarning)\n"
     ]
    },
    {
     "name": "stdout",
     "output_type": "stream",
     "text": [
      "i,j,k,rez = 3 2 2 945.6798728144805\n"
     ]
    },
    {
     "name": "stderr",
     "output_type": "stream",
     "text": [
      "/Users/alex/opt/anaconda3/lib/python3.7/site-packages/statsmodels/base/model.py:512: ConvergenceWarning: Maximum Likelihood optimization failed to converge. Check mle_retvals\n",
      "  \"Check mle_retvals\", ConvergenceWarning)\n"
     ]
    },
    {
     "name": "stdout",
     "output_type": "stream",
     "text": [
      "i,j,k,rez = 3 2 3 886.2745248254473\n",
      "i,j,k,rez = 3 3 0 1211.5215782013208\n"
     ]
    },
    {
     "name": "stderr",
     "output_type": "stream",
     "text": [
      "/Users/alex/opt/anaconda3/lib/python3.7/site-packages/statsmodels/base/model.py:512: ConvergenceWarning: Maximum Likelihood optimization failed to converge. Check mle_retvals\n",
      "  \"Check mle_retvals\", ConvergenceWarning)\n"
     ]
    },
    {
     "name": "stdout",
     "output_type": "stream",
     "text": [
      "i,j,k,rez = 3 3 1 1057.2733083067462\n"
     ]
    },
    {
     "name": "stderr",
     "output_type": "stream",
     "text": [
      "/Users/alex/opt/anaconda3/lib/python3.7/site-packages/statsmodels/base/model.py:512: ConvergenceWarning: Maximum Likelihood optimization failed to converge. Check mle_retvals\n",
      "  \"Check mle_retvals\", ConvergenceWarning)\n"
     ]
    },
    {
     "name": "stdout",
     "output_type": "stream",
     "text": [
      "i,j,k,rez = 3 3 2 1057.2612094010215\n"
     ]
    },
    {
     "name": "stderr",
     "output_type": "stream",
     "text": [
      "/Users/alex/opt/anaconda3/lib/python3.7/site-packages/statsmodels/base/model.py:512: ConvergenceWarning: Maximum Likelihood optimization failed to converge. Check mle_retvals\n",
      "  \"Check mle_retvals\", ConvergenceWarning)\n"
     ]
    },
    {
     "name": "stdout",
     "output_type": "stream",
     "text": [
      "i,j,k,rez = 3 3 3 948.6703438926804\n"
     ]
    }
   ],
   "source": [
    "for i in range(4):\n",
    "    for j in range(4):\n",
    "        for k in range(4):      \n",
    "            M = sm.tsa.statespace.SARIMAX(Data[:144], order=[i, j, k], seasonal_order=[4, 1, 1, 11], trend=None).fit()\n",
    "            rez = 0 #Переменная для текущей суммы ощибок\n",
    "            for count in range(len(M.forecasts_error[0])):\n",
    "                rez += abs(M.forecasts_error[0][count])\n",
    "            print('i,j,k,rez =',i,j,k,rez)"
   ]
  },
  {
   "cell_type": "code",
   "execution_count": 105,
   "metadata": {
    "collapsed": true
   },
   "outputs": [
    {
     "name": "stdout",
     "output_type": "stream",
     "text": [
      "c,d,rez = 0 0 913.5468131342743\n",
      "c,d,rez = 0 1 913.5468131342743\n",
      "c,d,rez = 0 2 913.5468131342743\n",
      "c,d,rez = 0 3 913.5468131342743\n",
      "c,d,rez = 0 4 913.5468131342743\n",
      "c,d,rez = 0 5 913.5468131342743\n",
      "c,d,rez = 0 6 913.5468131342743\n",
      "c,d,rez = 0 7 913.5468131342743\n",
      "c,d,rez = 0 8 913.5468131342743\n",
      "c,d,rez = 0 9 913.5468131342743\n",
      "c,d,rez = 0 10 913.5468131342743\n",
      "c,d,rez = 0 11 913.5468131342743\n",
      "c,d,rez = 1 0 822.5418886500653\n",
      "c,d,rez = 1 1 822.5418886500653\n",
      "c,d,rez = 1 2 833.028810754282\n",
      "c,d,rez = 1 3 854.5290866622302\n",
      "c,d,rez = 1 4 870.2672230112148\n",
      "c,d,rez = 1 5 805.4669010240847\n",
      "c,d,rez = 1 6 914.5347637477605\n",
      "c,d,rez = 1 7 849.9712646508513\n",
      "c,d,rez = 1 8 848.7535826206336\n",
      "c,d,rez = 1 9 894.9959954914647\n",
      "c,d,rez = 1 10 935.8407691942635\n",
      "c,d,rez = 1 11 911.8794701161637\n"
     ]
    },
    {
     "name": "stderr",
     "output_type": "stream",
     "text": [
      "/Users/alex/opt/anaconda3/lib/python3.7/site-packages/statsmodels/base/model.py:512: ConvergenceWarning: Maximum Likelihood optimization failed to converge. Check mle_retvals\n",
      "  \"Check mle_retvals\", ConvergenceWarning)\n"
     ]
    },
    {
     "name": "stdout",
     "output_type": "stream",
     "text": [
      "c,d,rez = 2 0 766.9546078749989\n"
     ]
    },
    {
     "name": "stderr",
     "output_type": "stream",
     "text": [
      "/Users/alex/opt/anaconda3/lib/python3.7/site-packages/statsmodels/base/model.py:512: ConvergenceWarning: Maximum Likelihood optimization failed to converge. Check mle_retvals\n",
      "  \"Check mle_retvals\", ConvergenceWarning)\n"
     ]
    },
    {
     "name": "stdout",
     "output_type": "stream",
     "text": [
      "c,d,rez = 2 1 766.9546078749989\n",
      "c,d,rez = 2 2 843.9621460645004\n",
      "c,d,rez = 2 3 862.9686078726503\n",
      "c,d,rez = 2 4 854.4513062485212\n",
      "c,d,rez = 2 5 802.7456729079505\n",
      "c,d,rez = 2 6 741.1166161168844\n",
      "c,d,rez = 2 7 841.2130827526488\n",
      "c,d,rez = 2 8 810.0697524183156\n",
      "c,d,rez = 2 9 894.1919676098921\n",
      "c,d,rez = 2 10 848.4621876524453\n",
      "c,d,rez = 2 11 908.5079596284243\n"
     ]
    },
    {
     "name": "stderr",
     "output_type": "stream",
     "text": [
      "/Users/alex/opt/anaconda3/lib/python3.7/site-packages/statsmodels/base/model.py:512: ConvergenceWarning: Maximum Likelihood optimization failed to converge. Check mle_retvals\n",
      "  \"Check mle_retvals\", ConvergenceWarning)\n"
     ]
    },
    {
     "name": "stdout",
     "output_type": "stream",
     "text": [
      "c,d,rez = 3 0 765.6624329242918\n"
     ]
    },
    {
     "name": "stderr",
     "output_type": "stream",
     "text": [
      "/Users/alex/opt/anaconda3/lib/python3.7/site-packages/statsmodels/base/model.py:512: ConvergenceWarning: Maximum Likelihood optimization failed to converge. Check mle_retvals\n",
      "  \"Check mle_retvals\", ConvergenceWarning)\n"
     ]
    },
    {
     "name": "stdout",
     "output_type": "stream",
     "text": [
      "c,d,rez = 3 1 765.6624329242918\n",
      "c,d,rez = 3 2 847.2837918698241\n",
      "c,d,rez = 3 3 881.6919760963518\n",
      "c,d,rez = 3 4 743.9789026975155\n",
      "c,d,rez = 3 5 809.4229632986187\n",
      "c,d,rez = 3 6 739.9326395383034\n",
      "c,d,rez = 3 7 834.972382083303\n",
      "c,d,rez = 3 8 761.4750409066238\n",
      "c,d,rez = 3 9 913.6646613230172\n",
      "c,d,rez = 3 10 850.6108121869527\n",
      "c,d,rez = 3 11 899.7853752672496\n"
     ]
    },
    {
     "name": "stderr",
     "output_type": "stream",
     "text": [
      "/Users/alex/opt/anaconda3/lib/python3.7/site-packages/statsmodels/base/model.py:512: ConvergenceWarning: Maximum Likelihood optimization failed to converge. Check mle_retvals\n",
      "  \"Check mle_retvals\", ConvergenceWarning)\n"
     ]
    },
    {
     "name": "stdout",
     "output_type": "stream",
     "text": [
      "c,d,rez = 4 0 767.0810526905765\n"
     ]
    },
    {
     "name": "stderr",
     "output_type": "stream",
     "text": [
      "/Users/alex/opt/anaconda3/lib/python3.7/site-packages/statsmodels/base/model.py:512: ConvergenceWarning: Maximum Likelihood optimization failed to converge. Check mle_retvals\n",
      "  \"Check mle_retvals\", ConvergenceWarning)\n"
     ]
    },
    {
     "name": "stdout",
     "output_type": "stream",
     "text": [
      "c,d,rez = 4 1 767.0810526905765\n",
      "c,d,rez = 4 2 818.1407665764841\n",
      "c,d,rez = 4 3 716.5035248607526\n",
      "c,d,rez = 4 4 734.5347623265031\n",
      "c,d,rez = 4 5 810.690218048718\n",
      "c,d,rez = 4 6 675.418822498999\n"
     ]
    },
    {
     "name": "stderr",
     "output_type": "stream",
     "text": [
      "/Users/alex/opt/anaconda3/lib/python3.7/site-packages/statsmodels/base/model.py:512: ConvergenceWarning: Maximum Likelihood optimization failed to converge. Check mle_retvals\n",
      "  \"Check mle_retvals\", ConvergenceWarning)\n"
     ]
    },
    {
     "name": "stdout",
     "output_type": "stream",
     "text": [
      "c,d,rez = 4 7 776.2569644100132\n"
     ]
    },
    {
     "name": "stderr",
     "output_type": "stream",
     "text": [
      "/Users/alex/opt/anaconda3/lib/python3.7/site-packages/statsmodels/base/model.py:512: ConvergenceWarning: Maximum Likelihood optimization failed to converge. Check mle_retvals\n",
      "  \"Check mle_retvals\", ConvergenceWarning)\n"
     ]
    },
    {
     "name": "stdout",
     "output_type": "stream",
     "text": [
      "c,d,rez = 4 8 736.2224620304734\n",
      "c,d,rez = 4 9 765.0284336445901\n",
      "c,d,rez = 4 10 858.3002086489724\n",
      "c,d,rez = 4 11 876.9677228124395\n",
      "c,d,rez = 5 0 771.5948138766188\n",
      "c,d,rez = 5 1 771.5948138766188\n"
     ]
    },
    {
     "name": "stderr",
     "output_type": "stream",
     "text": [
      "/Users/alex/opt/anaconda3/lib/python3.7/site-packages/statsmodels/base/model.py:512: ConvergenceWarning: Maximum Likelihood optimization failed to converge. Check mle_retvals\n",
      "  \"Check mle_retvals\", ConvergenceWarning)\n"
     ]
    },
    {
     "name": "stdout",
     "output_type": "stream",
     "text": [
      "c,d,rez = 5 2 852.3768662798465\n",
      "c,d,rez = 5 3 687.4082285862495\n",
      "c,d,rez = 5 4 709.7218558497663\n",
      "c,d,rez = 5 5 735.3490915960754\n"
     ]
    },
    {
     "name": "stderr",
     "output_type": "stream",
     "text": [
      "/Users/alex/opt/anaconda3/lib/python3.7/site-packages/statsmodels/base/model.py:512: ConvergenceWarning: Maximum Likelihood optimization failed to converge. Check mle_retvals\n",
      "  \"Check mle_retvals\", ConvergenceWarning)\n"
     ]
    },
    {
     "name": "stdout",
     "output_type": "stream",
     "text": [
      "c,d,rez = 5 6 904.752750260636\n"
     ]
    },
    {
     "name": "stderr",
     "output_type": "stream",
     "text": [
      "/Users/alex/opt/anaconda3/lib/python3.7/site-packages/statsmodels/base/model.py:512: ConvergenceWarning: Maximum Likelihood optimization failed to converge. Check mle_retvals\n",
      "  \"Check mle_retvals\", ConvergenceWarning)\n"
     ]
    },
    {
     "name": "stdout",
     "output_type": "stream",
     "text": [
      "c,d,rez = 5 7 737.0366781199067\n",
      "c,d,rez = 5 8 730.7841566762347\n",
      "c,d,rez = 5 9 775.4930542964803\n"
     ]
    },
    {
     "ename": "ValueError",
     "evalue": "maxlag should be < nobs",
     "output_type": "error",
     "traceback": [
      "\u001b[0;31m---------------------------------------------------------------------------\u001b[0m",
      "\u001b[0;31mValueError\u001b[0m                                Traceback (most recent call last)",
      "\u001b[0;32m<ipython-input-105-155834abca9d>\u001b[0m in \u001b[0;36m<module>\u001b[0;34m\u001b[0m\n\u001b[1;32m      1\u001b[0m \u001b[0;32mfor\u001b[0m \u001b[0mc\u001b[0m \u001b[0;32min\u001b[0m \u001b[0mrange\u001b[0m\u001b[0;34m(\u001b[0m\u001b[0;36m12\u001b[0m\u001b[0;34m)\u001b[0m\u001b[0;34m:\u001b[0m\u001b[0;34m\u001b[0m\u001b[0;34m\u001b[0m\u001b[0m\n\u001b[1;32m      2\u001b[0m     \u001b[0;32mfor\u001b[0m \u001b[0md\u001b[0m \u001b[0;32min\u001b[0m \u001b[0mrange\u001b[0m\u001b[0;34m(\u001b[0m\u001b[0;36m12\u001b[0m\u001b[0;34m)\u001b[0m\u001b[0;34m:\u001b[0m\u001b[0;34m\u001b[0m\u001b[0;34m\u001b[0m\u001b[0m\n\u001b[0;32m----> 3\u001b[0;31m         \u001b[0mM\u001b[0m \u001b[0;34m=\u001b[0m \u001b[0msm\u001b[0m\u001b[0;34m.\u001b[0m\u001b[0mtsa\u001b[0m\u001b[0;34m.\u001b[0m\u001b[0mstatespace\u001b[0m\u001b[0;34m.\u001b[0m\u001b[0mSARIMAX\u001b[0m\u001b[0;34m(\u001b[0m\u001b[0mData\u001b[0m\u001b[0;34m[\u001b[0m\u001b[0;34m:\u001b[0m\u001b[0;36m144\u001b[0m\u001b[0;34m]\u001b[0m\u001b[0;34m,\u001b[0m \u001b[0morder\u001b[0m\u001b[0;34m=\u001b[0m\u001b[0;34m[\u001b[0m\u001b[0;36m1\u001b[0m\u001b[0;34m,\u001b[0m \u001b[0;36m1\u001b[0m\u001b[0;34m,\u001b[0m \u001b[0;36m3\u001b[0m\u001b[0;34m]\u001b[0m\u001b[0;34m,\u001b[0m \u001b[0mseasonal_order\u001b[0m\u001b[0;34m=\u001b[0m\u001b[0;34m[\u001b[0m\u001b[0;36m0\u001b[0m\u001b[0;34m,\u001b[0m \u001b[0;36m0\u001b[0m\u001b[0;34m,\u001b[0m \u001b[0mc\u001b[0m\u001b[0;34m,\u001b[0m \u001b[0md\u001b[0m\u001b[0;34m]\u001b[0m\u001b[0;34m,\u001b[0m \u001b[0mtrend\u001b[0m\u001b[0;34m=\u001b[0m\u001b[0;32mNone\u001b[0m\u001b[0;34m)\u001b[0m\u001b[0;34m.\u001b[0m\u001b[0mfit\u001b[0m\u001b[0;34m(\u001b[0m\u001b[0;34m)\u001b[0m\u001b[0;34m\u001b[0m\u001b[0;34m\u001b[0m\u001b[0m\n\u001b[0m\u001b[1;32m      4\u001b[0m         \u001b[0mrez\u001b[0m \u001b[0;34m=\u001b[0m \u001b[0;36m0\u001b[0m \u001b[0;31m#Переменная для текущей суммы ощибок\u001b[0m\u001b[0;34m\u001b[0m\u001b[0;34m\u001b[0m\u001b[0m\n\u001b[1;32m      5\u001b[0m         \u001b[0;32mfor\u001b[0m \u001b[0mcount\u001b[0m \u001b[0;32min\u001b[0m \u001b[0mrange\u001b[0m\u001b[0;34m(\u001b[0m\u001b[0mlen\u001b[0m\u001b[0;34m(\u001b[0m\u001b[0mM\u001b[0m\u001b[0;34m.\u001b[0m\u001b[0mforecasts_error\u001b[0m\u001b[0;34m[\u001b[0m\u001b[0;36m0\u001b[0m\u001b[0;34m]\u001b[0m\u001b[0;34m)\u001b[0m\u001b[0;34m)\u001b[0m\u001b[0;34m:\u001b[0m\u001b[0;34m\u001b[0m\u001b[0;34m\u001b[0m\u001b[0m\n",
      "\u001b[0;32m~/opt/anaconda3/lib/python3.7/site-packages/statsmodels/tsa/statespace/mlemodel.py\u001b[0m in \u001b[0;36mfit\u001b[0;34m(self, start_params, transformed, cov_type, cov_kwds, method, maxiter, full_output, disp, callback, return_params, optim_score, optim_complex_step, optim_hessian, flags, **kwargs)\u001b[0m\n\u001b[1;32m    443\u001b[0m         \"\"\"\n\u001b[1;32m    444\u001b[0m         \u001b[0;32mif\u001b[0m \u001b[0mstart_params\u001b[0m \u001b[0;32mis\u001b[0m \u001b[0;32mNone\u001b[0m\u001b[0;34m:\u001b[0m\u001b[0;34m\u001b[0m\u001b[0;34m\u001b[0m\u001b[0m\n\u001b[0;32m--> 445\u001b[0;31m             \u001b[0mstart_params\u001b[0m \u001b[0;34m=\u001b[0m \u001b[0mself\u001b[0m\u001b[0;34m.\u001b[0m\u001b[0mstart_params\u001b[0m\u001b[0;34m\u001b[0m\u001b[0;34m\u001b[0m\u001b[0m\n\u001b[0m\u001b[1;32m    446\u001b[0m             \u001b[0mtransformed\u001b[0m \u001b[0;34m=\u001b[0m \u001b[0;32mTrue\u001b[0m\u001b[0;34m\u001b[0m\u001b[0;34m\u001b[0m\u001b[0m\n\u001b[1;32m    447\u001b[0m \u001b[0;34m\u001b[0m\u001b[0m\n",
      "\u001b[0;32m~/opt/anaconda3/lib/python3.7/site-packages/statsmodels/tsa/statespace/sarimax.py\u001b[0m in \u001b[0;36mstart_params\u001b[0;34m(self)\u001b[0m\n\u001b[1;32m    967\u001b[0m             self._conditional_sum_squares(\n\u001b[1;32m    968\u001b[0m                 \u001b[0mendog\u001b[0m\u001b[0;34m,\u001b[0m \u001b[0mself\u001b[0m\u001b[0;34m.\u001b[0m\u001b[0mk_seasonal_ar\u001b[0m\u001b[0;34m,\u001b[0m \u001b[0mself\u001b[0m\u001b[0;34m.\u001b[0m\u001b[0mpolynomial_seasonal_ar\u001b[0m\u001b[0;34m,\u001b[0m\u001b[0;34m\u001b[0m\u001b[0;34m\u001b[0m\u001b[0m\n\u001b[0;32m--> 969\u001b[0;31m                 \u001b[0mself\u001b[0m\u001b[0;34m.\u001b[0m\u001b[0mk_seasonal_ma\u001b[0m\u001b[0;34m,\u001b[0m \u001b[0mself\u001b[0m\u001b[0;34m.\u001b[0m\u001b[0mpolynomial_seasonal_ma\u001b[0m\u001b[0;34m\u001b[0m\u001b[0;34m\u001b[0m\u001b[0m\n\u001b[0m\u001b[1;32m    970\u001b[0m             )\n\u001b[1;32m    971\u001b[0m         )\n",
      "\u001b[0;32m~/opt/anaconda3/lib/python3.7/site-packages/statsmodels/tsa/statespace/sarimax.py\u001b[0m in \u001b[0;36m_conditional_sum_squares\u001b[0;34m(endog, k_ar, polynomial_ar, k_ma, polynomial_ma, k_trend, trend_data)\u001b[0m\n\u001b[1;32m    861\u001b[0m             \u001b[0;32mif\u001b[0m \u001b[0mk_ma\u001b[0m \u001b[0;34m>\u001b[0m \u001b[0;36m0\u001b[0m\u001b[0;34m:\u001b[0m\u001b[0;34m\u001b[0m\u001b[0;34m\u001b[0m\u001b[0m\n\u001b[1;32m    862\u001b[0m                 \u001b[0mcols\u001b[0m \u001b[0;34m=\u001b[0m \u001b[0mpolynomial_ma\u001b[0m\u001b[0;34m.\u001b[0m\u001b[0mnonzero\u001b[0m\u001b[0;34m(\u001b[0m\u001b[0;34m)\u001b[0m\u001b[0;34m[\u001b[0m\u001b[0;36m0\u001b[0m\u001b[0;34m]\u001b[0m\u001b[0;34m[\u001b[0m\u001b[0;36m1\u001b[0m\u001b[0;34m:\u001b[0m\u001b[0;34m]\u001b[0m \u001b[0;34m-\u001b[0m \u001b[0;36m1\u001b[0m\u001b[0;34m\u001b[0m\u001b[0;34m\u001b[0m\u001b[0m\n\u001b[0;32m--> 863\u001b[0;31m                 \u001b[0mX\u001b[0m \u001b[0;34m=\u001b[0m \u001b[0mnp\u001b[0m\u001b[0;34m.\u001b[0m\u001b[0mc_\u001b[0m\u001b[0;34m[\u001b[0m\u001b[0mX\u001b[0m\u001b[0;34m,\u001b[0m \u001b[0mlagmat\u001b[0m\u001b[0;34m(\u001b[0m\u001b[0mresiduals\u001b[0m\u001b[0;34m,\u001b[0m \u001b[0mk_ma\u001b[0m\u001b[0;34m)\u001b[0m\u001b[0;34m[\u001b[0m\u001b[0mr\u001b[0m\u001b[0;34m-\u001b[0m\u001b[0mk\u001b[0m\u001b[0;34m:\u001b[0m\u001b[0;34m,\u001b[0m \u001b[0mcols\u001b[0m\u001b[0;34m]\u001b[0m\u001b[0;34m]\u001b[0m\u001b[0;34m\u001b[0m\u001b[0;34m\u001b[0m\u001b[0m\n\u001b[0m\u001b[1;32m    864\u001b[0m \u001b[0;34m\u001b[0m\u001b[0m\n\u001b[1;32m    865\u001b[0m             \u001b[0;31m# Get the array of [ar_params, ma_params]\u001b[0m\u001b[0;34m\u001b[0m\u001b[0;34m\u001b[0m\u001b[0;34m\u001b[0m\u001b[0m\n",
      "\u001b[0;32m~/opt/anaconda3/lib/python3.7/site-packages/statsmodels/tsa/tsatools.py\u001b[0m in \u001b[0;36mlagmat\u001b[0;34m(x, maxlag, trim, original, use_pandas)\u001b[0m\n\u001b[1;32m    406\u001b[0m         \u001b[0mdropidx\u001b[0m \u001b[0;34m=\u001b[0m \u001b[0mnvar\u001b[0m\u001b[0;34m\u001b[0m\u001b[0;34m\u001b[0m\u001b[0m\n\u001b[1;32m    407\u001b[0m     \u001b[0;32mif\u001b[0m \u001b[0mmaxlag\u001b[0m \u001b[0;34m>=\u001b[0m \u001b[0mnobs\u001b[0m\u001b[0;34m:\u001b[0m\u001b[0;34m\u001b[0m\u001b[0;34m\u001b[0m\u001b[0m\n\u001b[0;32m--> 408\u001b[0;31m         \u001b[0;32mraise\u001b[0m \u001b[0mValueError\u001b[0m\u001b[0;34m(\u001b[0m\u001b[0;34m\"maxlag should be < nobs\"\u001b[0m\u001b[0;34m)\u001b[0m\u001b[0;34m\u001b[0m\u001b[0;34m\u001b[0m\u001b[0m\n\u001b[0m\u001b[1;32m    409\u001b[0m     \u001b[0mlm\u001b[0m \u001b[0;34m=\u001b[0m \u001b[0mnp\u001b[0m\u001b[0;34m.\u001b[0m\u001b[0mzeros\u001b[0m\u001b[0;34m(\u001b[0m\u001b[0;34m(\u001b[0m\u001b[0mnobs\u001b[0m \u001b[0;34m+\u001b[0m \u001b[0mmaxlag\u001b[0m\u001b[0;34m,\u001b[0m \u001b[0mnvar\u001b[0m \u001b[0;34m*\u001b[0m \u001b[0;34m(\u001b[0m\u001b[0mmaxlag\u001b[0m \u001b[0;34m+\u001b[0m \u001b[0;36m1\u001b[0m\u001b[0;34m)\u001b[0m\u001b[0;34m)\u001b[0m\u001b[0;34m)\u001b[0m\u001b[0;34m\u001b[0m\u001b[0;34m\u001b[0m\u001b[0m\n\u001b[1;32m    410\u001b[0m     \u001b[0;32mfor\u001b[0m \u001b[0mk\u001b[0m \u001b[0;32min\u001b[0m \u001b[0mrange\u001b[0m\u001b[0;34m(\u001b[0m\u001b[0;36m0\u001b[0m\u001b[0;34m,\u001b[0m \u001b[0mint\u001b[0m\u001b[0;34m(\u001b[0m\u001b[0mmaxlag\u001b[0m \u001b[0;34m+\u001b[0m \u001b[0;36m1\u001b[0m\u001b[0;34m)\u001b[0m\u001b[0;34m)\u001b[0m\u001b[0;34m:\u001b[0m\u001b[0;34m\u001b[0m\u001b[0;34m\u001b[0m\u001b[0m\n",
      "\u001b[0;31mValueError\u001b[0m: maxlag should be < nobs"
     ]
    }
   ],
   "source": [
    "for c in range(12): \n",
    "    for d in range(12): \n",
    "        M = sm.tsa.statespace.SARIMAX(Data[:144], order=[1, 1, 3], seasonal_order=[0, 0, c, d], trend=None).fit()\n",
    "        rez = 0 #Переменная для текущей суммы ощибок\n",
    "        for count in range(len(M.forecasts_error[0])):\n",
    "            rez += abs(M.forecasts_error[0][count])\n",
    "        print('c,d,rez =',c,d,rez)"
   ]
  },
  {
   "cell_type": "markdown",
   "metadata": {},
   "source": [
    "### Строим прогноз"
   ]
  },
  {
   "cell_type": "code",
   "execution_count": 116,
   "metadata": {},
   "outputs": [
    {
     "name": "stdout",
     "output_type": "stream",
     "text": [
      "144     61.199150\n",
      "145     58.512814\n",
      "146     67.725268\n",
      "147     68.803346\n",
      "148     92.462716\n",
      "149    130.024460\n",
      "150    129.343365\n",
      "151    126.957185\n",
      "152    121.316163\n",
      "153     96.437218\n",
      "154     73.820296\n",
      "155     72.427858\n",
      "dtype: float64\n"
     ]
    }
   ],
   "source": [
    "print(M.forecast(12))"
   ]
  },
  {
   "cell_type": "code",
   "execution_count": 117,
   "metadata": {},
   "outputs": [
    {
     "name": "stdout",
     "output_type": "stream",
     "text": [
      "         pas\n",
      "144   61.818\n",
      "145   53.821\n",
      "146   67.102\n",
      "147   76.634\n",
      "148  101.102\n",
      "149  122.324\n",
      "150  129.924\n",
      "151  132.268\n",
      "152  124.669\n",
      "153  102.303\n",
      "154   73.845\n",
      "155   68.246\n"
     ]
    }
   ],
   "source": [
    "print(Data[144:])"
   ]
  },
  {
   "cell_type": "code",
   "execution_count": 121,
   "metadata": {},
   "outputs": [
    {
     "data": {
      "image/png": "[encoded data removed]",
      "text/plain": [
       "<Figure size 1440x720 with 1 Axes>"
      ]
     },
     "metadata": {
      "needs_background": "light"
     },
     "output_type": "display_data"
    }
   ],
   "source": [
    "plt.figure(figsize=(20,10))\n",
    "plt.title('Пассажиропоток (конечный вариант предсказания)')\n",
    "plt.plot(Data[108:]['pas'],color='blue',label='real')\n",
    "plt.plot( M.forecast(12), color='red',label='forecasted' )\n",
    "plt.legend(loc='best', fontsize = 14)\n",
    "plt.show()"
   ]
  },
  {
   "cell_type": "markdown",
   "metadata": {},
   "source": [
    "Выглядит неплохо, получаем, что перебор параметров был сделан незря. Ниже приложу изначальный график на параметрах, указанных в примере:"
   ]
  },
  {
   "cell_type": "code",
   "execution_count": 124,
   "metadata": {
    "collapsed": true
   },
   "outputs": [
    {
     "data": {
      "image/png": "[encoded data removed]",
      "text/plain": [
       "<Figure size 1440x720 with 1 Axes>"
      ]
     },
     "metadata": {
      "needs_background": "light"
     },
     "output_type": "display_data"
    }
   ],
   "source": [
    "M = sm.tsa.statespace.SARIMAX(Data[:144], order=[1, 2, 0], seasonal_order=[4, 1, 1, 12], trend=None).fit()\n",
    "plt.figure(figsize=(20,10))\n",
    "plt.title('Пассажиропоток (вариант до перебора)')\n",
    "plt.plot(Data[108:]['pas'],color='blue',label='real')\n",
    "plt.plot( M.forecast(12), color='red',label='forecasted' )\n",
    "plt.legend(loc='best', fontsize = 14)\n",
    "plt.show()"
   ]
  }
 ],
 "metadata": {
  "kernelspec": {
   "display_name": "Python 3",
   "language": "python",
   "name": "python3"
  },
  "language_info": {
   "codemirror_mode": {
    "name": "ipython",
    "version": 3
   },
   "file_extension": ".py",
   "mimetype": "text/x-python",
   "name": "python",
   "nbconvert_exporter": "python",
   "pygments_lexer": "ipython3",
   "version": "3.7.4"
  }
 },
 "nbformat": 4,
 "nbformat_minor": 2
}
